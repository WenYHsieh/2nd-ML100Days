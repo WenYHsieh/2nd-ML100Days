{
 "cells": [
  {
   "cell_type": "markdown",
   "metadata": {
    "collapsed": true
   },
   "source": [
    "# 作業 : (Kaggle)鐵達尼生存預測"
   ]
  },
  {
   "cell_type": "markdown",
   "metadata": {},
   "source": [
    "# [作業目標]\n",
    "- 試著完成三種不同特徵類型的三種資料操作, 觀察結果\n",
    "- 思考一下, 這三種特徵類型, 哪一種應該最複雜/最難處理"
   ]
  },
  {
   "cell_type": "markdown",
   "metadata": {},
   "source": [
    "# [作業重點]\n",
    "- 完成剩餘的八種 類型 x 操作組合 (In[6]~In[13], Out[6]~Out[13])\n",
    "- 思考何種特徵類型, 應該最複雜"
   ]
  },
  {
   "cell_type": "code",
   "execution_count": 1,
   "metadata": {},
   "outputs": [
    {
     "name": "stdout",
     "output_type": "stream",
     "text": [
      "Index(['PassengerId', 'Pclass', 'Name', 'Sex', 'Age', 'SibSp', 'Parch',\n",
      "       'Ticket', 'Fare', 'Cabin', 'Embarked'],\n",
      "      dtype='object') Index(['PassengerId', 'Survived', 'Pclass', 'Name', 'Sex', 'Age', 'SibSp',\n",
      "       'Parch', 'Ticket', 'Fare', 'Cabin', 'Embarked'],\n",
      "      dtype='object')\n"
     ]
    }
   ],
   "source": [
    "# 載入基本套件\n",
    "import os\n",
    "import pandas as pd\n",
    "import numpy as np\n",
    "\n",
    "# 讀取訓練與測試資料\n",
    "os.chdir(r\"C:\\Users\\Wendy\\Documents\\GitHub\\2nd-ML100Days\\data\")\n",
    "df_train = pd.read_csv('titanic_train.csv')\n",
    "df_test = pd.read_csv('titanic_test.csv')\n",
    "print(df_test.columns, df_train.columns)"
   ]
  },
  {
   "cell_type": "code",
   "execution_count": 2,
   "metadata": {
    "scrolled": true
   },
   "outputs": [],
   "source": [
    "# 重組資料成為訓練 / 預測用格式\n",
    "# 1.把目標欄位存到train_Y\n",
    "train_Y = df_train['Survived']\n",
    "# 2.將辨識用的ID欄位存到ids\n",
    "ids = df_test['PassengerId']\n",
    "# 3.在原本資料當中將目標及id欄位刪掉\n",
    "df_train = df_train.drop(['PassengerId', 'Survived'] , axis=1)\n",
    "# test data裡面原本沒有存活狀況的資料\n",
    "df_test = df_test.drop(['PassengerId'] , axis=1)\n",
    "df = pd.concat([df_train,df_test])"
   ]
  },
  {
   "cell_type": "code",
   "execution_count": 4,
   "metadata": {},
   "outputs": [
    {
     "data": {
      "text/html": [
       "<div>\n",
       "<style scoped>\n",
       "    .dataframe tbody tr th:only-of-type {\n",
       "        vertical-align: middle;\n",
       "    }\n",
       "\n",
       "    .dataframe tbody tr th {\n",
       "        vertical-align: top;\n",
       "    }\n",
       "\n",
       "    .dataframe thead th {\n",
       "        text-align: right;\n",
       "    }\n",
       "</style>\n",
       "<table border=\"1\" class=\"dataframe\">\n",
       "  <thead>\n",
       "    <tr style=\"text-align: right;\">\n",
       "      <th></th>\n",
       "      <th>Column Type</th>\n",
       "      <th>Count</th>\n",
       "    </tr>\n",
       "  </thead>\n",
       "  <tbody>\n",
       "    <tr>\n",
       "      <th>0</th>\n",
       "      <td>int64</td>\n",
       "      <td>3</td>\n",
       "    </tr>\n",
       "    <tr>\n",
       "      <th>1</th>\n",
       "      <td>float64</td>\n",
       "      <td>2</td>\n",
       "    </tr>\n",
       "    <tr>\n",
       "      <th>2</th>\n",
       "      <td>object</td>\n",
       "      <td>5</td>\n",
       "    </tr>\n",
       "  </tbody>\n",
       "</table>\n",
       "</div>"
      ],
      "text/plain": [
       "  Column Type  Count\n",
       "0       int64      3\n",
       "1     float64      2\n",
       "2      object      5"
      ]
     },
     "execution_count": 4,
     "metadata": {},
     "output_type": "execute_result"
    }
   ],
   "source": [
    "# 秀出欄位資料的類型(df.dtype)與數量\n",
    "dtype_df = df.dtypes.reset_index()\n",
    "dtype_df.columns = [\"Count\", \"Column Type\"]\n",
    "# agg: 依據column type 計數出現次數\n",
    "dtype_df = dtype_df.groupby(\"Column Type\").aggregate('count').reset_index()\n",
    "dtype_df"
   ]
  },
  {
   "cell_type": "code",
   "execution_count": 5,
   "metadata": {},
   "outputs": [
    {
     "name": "stdout",
     "output_type": "stream",
     "text": [
      "3 Integer Features : ['Pclass', 'SibSp', 'Parch']\n",
      "\n",
      "2 Float Features : ['Age', 'Fare']\n",
      "\n",
      "5 Object Features : ['Name', 'Sex', 'Ticket', 'Cabin', 'Embarked']\n"
     ]
    }
   ],
   "source": [
    "#確定只有 int64, float64, object 三種類型後, 分別將欄位名稱存於三個 list 中\n",
    "int_features = []\n",
    "float_features = []\n",
    "object_features = []\n",
    "for dtype, feature in zip(df.dtypes, df.columns):\n",
    "    if dtype == 'float64':\n",
    "        float_features.append(feature)\n",
    "    elif dtype == 'int64':\n",
    "        int_features.append(feature)\n",
    "    else:\n",
    "        object_features.append(feature)\n",
    "print(f'{len(int_features)} Integer Features : {int_features}\\n')\n",
    "print(f'{len(float_features)} Float Features : {float_features}\\n')\n",
    "print(f'{len(object_features)} Object Features : {object_features}')"
   ]
  },
  {
   "cell_type": "markdown",
   "metadata": {
    "collapsed": true
   },
   "source": [
    "# 作業1 \n",
    "* 試著執行作業程式，觀察三種類型 (int / float / object) 的欄位分別進行( 平均 mean / 最大值 Max / 相異值 nunique )  \n",
    "中的九次操作會有那些問題? 並試著解釋那些發生Error的程式區塊的原因?  \n",
    "\n",
    "# 作業2\n",
    "* 思考一下，試著舉出今天五種類型以外的一種或多種資料類型，你舉出的新類型是否可以歸在三大類中的某些大類?  \n",
    "所以三大類特徵中，哪一大類處理起來應該最複雜?"
   ]
  },
  {
   "cell_type": "code",
   "execution_count": 8,
   "metadata": {},
   "outputs": [
    {
     "data": {
      "text/plain": [
       "'\\nYour Code Here\\n'"
      ]
     },
     "execution_count": 8,
     "metadata": {},
     "output_type": "execute_result"
    }
   ],
   "source": [
    "# 請依序列出 三種特徵類型 (int / float / object) x 三種方法 (平均 mean / 最大值 Max / 相異值 nunique) 的其餘操作\n",
    "\"\"\"\n",
    "Your Code Here\n",
    "\"\"\""
   ]
  },
  {
   "cell_type": "markdown",
   "metadata": {},
   "source": [
    "# 作業1 answer"
   ]
  },
  {
   "cell_type": "code",
   "execution_count": 6,
   "metadata": {
    "scrolled": true
   },
   "outputs": [
    {
     "name": "stdout",
     "output_type": "stream",
     "text": [
      "--integer feature--\n",
      "mean:\n",
      " Pclass    2.294882\n",
      "SibSp     0.498854\n",
      "Parch     0.385027\n",
      "dtype: float64 \n",
      "\n",
      "max:\n",
      " Pclass    3\n",
      "SibSp     8\n",
      "Parch     9\n",
      "dtype: int64 \n",
      "\n",
      "nunique:\n",
      " Pclass    3\n",
      "SibSp     7\n",
      "Parch     8\n",
      "dtype: int64 \n",
      "\n",
      "--float_features--\n",
      "mean:\n",
      " Age     29.881138\n",
      "Fare    33.295479\n",
      "dtype: float64 \n",
      "\n",
      "max:\n",
      " Age      80.0000\n",
      "Fare    512.3292\n",
      "dtype: float64 \n",
      "\n",
      "nunique:\n",
      " Age      98\n",
      "Fare    281\n",
      "dtype: int64 \n",
      "\n"
     ]
    }
   ],
   "source": [
    "# 例 : 整數 (int) 特徵取平均 (mean)\n",
    "print(\"--integer feature--\")\n",
    "print(\"mean:\\n\", df[int_features].mean(), \"\\n\")\n",
    "print(\"max:\\n\", df[int_features].max(), \"\\n\")\n",
    "print(\"nunique:\\n\", df[int_features].nunique(), \"\\n\")\n",
    "print(\"--float_features--\")\n",
    "print(\"mean:\\n\", df[float_features].mean(), \"\\n\")\n",
    "print(\"max:\\n\", df[float_features].max(), \"\\n\")\n",
    "print(\"nunique:\\n\", df[float_features].nunique(), \"\\n\")"
   ]
  },
  {
   "cell_type": "code",
   "execution_count": 7,
   "metadata": {
    "scrolled": true
   },
   "outputs": [
    {
     "name": "stdout",
     "output_type": "stream",
     "text": [
      "--object_features--\n",
      "mean:\n",
      " Series([], dtype: float64) \n",
      "\n",
      "max:\n",
      " Name      van Melkebeke, Mr. Philemon\n",
      "Sex                              male\n",
      "Ticket                      WE/P 5735\n",
      "dtype: object \n",
      "\n",
      "nunique:\n",
      " Name        1307\n",
      "Sex            2\n",
      "Ticket       929\n",
      "Cabin        186\n",
      "Embarked       3\n",
      "dtype: int64 \n",
      "\n"
     ]
    }
   ],
   "source": [
    "print(\"--object_features--\")\n",
    "# 非數值類型的資料沒辦法計算最大值因此會出現error\n",
    "print(\"mean:\\n\", df[object_features].mean(), \"\\n\")\n",
    "# 非數值類型的資料沒辦法計算最大值因此會出現error\n",
    "print(\"max:\\n\", df[object_features].max(), \"\\n\")\n",
    "# 多少種不同類別的物件\n",
    "print(\"nunique:\\n\", df[object_features].nunique(), \"\\n\")"
   ]
  },
  {
   "cell_type": "markdown",
   "metadata": {},
   "source": [
    "# 作業2 answer"
   ]
  },
  {
   "cell_type": "markdown",
   "metadata": {},
   "source": [
    "**1.三大類中屬於\"Object\"資料處理起來最繁雜**\n",
    "\n",
    "**2.以Y or N來代表有或無的資料。因原本為字串，可以是一個object類型的資料，也可以轉換成1 or 0歸到數值類型資料**"
   ]
  },
  {
   "cell_type": "code",
   "execution_count": null,
   "metadata": {},
   "outputs": [],
   "source": []
  }
 ],
 "metadata": {
  "kernelspec": {
   "display_name": "Python 3",
   "language": "python",
   "name": "python3"
  },
  "language_info": {
   "codemirror_mode": {
    "name": "ipython",
    "version": 3
   },
   "file_extension": ".py",
   "mimetype": "text/x-python",
   "name": "python",
   "nbconvert_exporter": "python",
   "pygments_lexer": "ipython3",
   "version": "3.7.1"
  }
 },
 "nbformat": 4,
 "nbformat_minor": 2
}
